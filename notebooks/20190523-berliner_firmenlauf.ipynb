{
 "cells": [
  {
   "cell_type": "markdown",
   "metadata": {},
   "source": [
    "Yesterday, together with 23 colleagues, I ran the Berliner Firmenlauf.\n",
    "\n",
    "Here is a short analysis of the data.\n",
    "\n",
    "Data can be found at https://www.davengo.com/event/result/18-ikk-bb-berliner-firmenlauf-2019/"
   ]
  },
  {
   "cell_type": "code",
   "execution_count": 1,
   "metadata": {},
   "outputs": [],
   "source": [
    "import pandas as pd\n",
    "from matplotlib import pyplot as plt\n",
    "import seaborn as sns\n",
    "sns.set()\n",
    "%matplotlib inline"
   ]
  },
  {
   "cell_type": "code",
   "execution_count": 2,
   "metadata": {},
   "outputs": [],
   "source": [
    "def time_convert(x):\n",
    "    h, m, s = map(int, x.split(':'))\n",
    "    return (h * 60 + m) * 60 + s"
   ]
  },
  {
   "cell_type": "code",
   "execution_count": 3,
   "metadata": {},
   "outputs": [
    {
     "data": {
      "text/html": [
       "<div>\n",
       "<style scoped>\n",
       "    .dataframe tbody tr th:only-of-type {\n",
       "        vertical-align: middle;\n",
       "    }\n",
       "\n",
       "    .dataframe tbody tr th {\n",
       "        vertical-align: top;\n",
       "    }\n",
       "\n",
       "    .dataframe thead th {\n",
       "        text-align: right;\n",
       "    }\n",
       "</style>\n",
       "<table border=\"1\" class=\"dataframe\">\n",
       "  <thead>\n",
       "    <tr style=\"text-align: right;\">\n",
       "      <th></th>\n",
       "      <th>place</th>\n",
       "      <th>place_men</th>\n",
       "      <th>place_women</th>\n",
       "      <th>jersey_number</th>\n",
       "      <th>first_name</th>\n",
       "      <th>last_name</th>\n",
       "      <th>place_age_group</th>\n",
       "      <th>age_group</th>\n",
       "      <th>team</th>\n",
       "      <th>time</th>\n",
       "      <th>company</th>\n",
       "      <th>time_in_sec</th>\n",
       "    </tr>\n",
       "  </thead>\n",
       "  <tbody>\n",
       "    <tr>\n",
       "      <th>38</th>\n",
       "      <td>4911</td>\n",
       "      <td>NaN</td>\n",
       "      <td>750.0</td>\n",
       "      <td>13349</td>\n",
       "      <td>Antonella</td>\n",
       "      <td>Aquaro</td>\n",
       "      <td>262</td>\n",
       "      <td>W20</td>\n",
       "      <td>DECATHLON Berlin</td>\n",
       "      <td>00:27:47</td>\n",
       "      <td>DECATHLON Berlin</td>\n",
       "      <td>1667</td>\n",
       "    </tr>\n",
       "    <tr>\n",
       "      <th>10</th>\n",
       "      <td>3641</td>\n",
       "      <td>3234.0</td>\n",
       "      <td>NaN</td>\n",
       "      <td>6701</td>\n",
       "      <td>Ulf</td>\n",
       "      <td>Germann</td>\n",
       "      <td>592</td>\n",
       "      <td>M35</td>\n",
       "      <td>OneFootball</td>\n",
       "      <td>00:26:30</td>\n",
       "      <td>OneFootball GmbH</td>\n",
       "      <td>1590</td>\n",
       "    </tr>\n",
       "    <tr>\n",
       "      <th>5</th>\n",
       "      <td>1542</td>\n",
       "      <td>1441.0</td>\n",
       "      <td>NaN</td>\n",
       "      <td>6709</td>\n",
       "      <td>Anderson</td>\n",
       "      <td>Queiroz</td>\n",
       "      <td>401</td>\n",
       "      <td>M20</td>\n",
       "      <td>OneFootball</td>\n",
       "      <td>00:24:02</td>\n",
       "      <td>OneFootball GmbH</td>\n",
       "      <td>1442</td>\n",
       "    </tr>\n",
       "    <tr>\n",
       "      <th>14</th>\n",
       "      <td>5590</td>\n",
       "      <td>4626.0</td>\n",
       "      <td>NaN</td>\n",
       "      <td>6710</td>\n",
       "      <td>Tiago</td>\n",
       "      <td>Queiroz</td>\n",
       "      <td>1123</td>\n",
       "      <td>M20</td>\n",
       "      <td>OneFootball</td>\n",
       "      <td>00:28:24</td>\n",
       "      <td>OneFootball GmbH</td>\n",
       "      <td>1704</td>\n",
       "    </tr>\n",
       "    <tr>\n",
       "      <th>33</th>\n",
       "      <td>2741</td>\n",
       "      <td>2489.0</td>\n",
       "      <td>NaN</td>\n",
       "      <td>13409</td>\n",
       "      <td>Unbekannt</td>\n",
       "      <td>Nr 36</td>\n",
       "      <td>58</td>\n",
       "      <td>NaN</td>\n",
       "      <td>DECATHLON Berlin</td>\n",
       "      <td>00:25:34</td>\n",
       "      <td>DECATHLON Berlin</td>\n",
       "      <td>1534</td>\n",
       "    </tr>\n",
       "  </tbody>\n",
       "</table>\n",
       "</div>"
      ],
      "text/plain": [
       "    place  place_men  place_women  jersey_number first_name last_name  \\\n",
       "38   4911        NaN        750.0          13349  Antonella    Aquaro   \n",
       "10   3641     3234.0          NaN           6701        Ulf   Germann   \n",
       "5    1542     1441.0          NaN           6709   Anderson   Queiroz   \n",
       "14   5590     4626.0          NaN           6710      Tiago   Queiroz   \n",
       "33   2741     2489.0          NaN          13409  Unbekannt     Nr 36   \n",
       "\n",
       "    place_age_group age_group              team      time           company  \\\n",
       "38              262       W20  DECATHLON Berlin  00:27:47  DECATHLON Berlin   \n",
       "10              592       M35       OneFootball  00:26:30  OneFootball GmbH   \n",
       "5               401       M20       OneFootball  00:24:02  OneFootball GmbH   \n",
       "14             1123       M20       OneFootball  00:28:24  OneFootball GmbH   \n",
       "33               58       NaN  DECATHLON Berlin  00:25:34  DECATHLON Berlin   \n",
       "\n",
       "    time_in_sec  \n",
       "38         1667  \n",
       "10         1590  \n",
       "5          1442  \n",
       "14         1704  \n",
       "33         1534  "
      ]
     },
     "execution_count": 3,
     "metadata": {},
     "output_type": "execute_result"
    }
   ],
   "source": [
    "df = pd.read_csv(\n",
    "    '../post-data/berlin_firmenlauf.csv', \n",
    "    sep=';', \n",
    "    names=['place', 'place_men', 'place_women', 'jersey_number', 'first_name', 'last_name', 'place_age_group', 'age_group', 'team', 'time', 'company'], \n",
    "    skiprows=1, \n",
    ")\n",
    "df['time_in_sec'] = df.time.apply(time_convert)\n",
    "df.sample(5)"
   ]
  },
  {
   "cell_type": "code",
   "execution_count": 4,
   "metadata": {},
   "outputs": [
    {
     "data": {
      "text/html": [
       "<div>\n",
       "<style scoped>\n",
       "    .dataframe tbody tr th:only-of-type {\n",
       "        vertical-align: middle;\n",
       "    }\n",
       "\n",
       "    .dataframe tbody tr th {\n",
       "        vertical-align: top;\n",
       "    }\n",
       "\n",
       "    .dataframe thead th {\n",
       "        text-align: right;\n",
       "    }\n",
       "</style>\n",
       "<table border=\"1\" class=\"dataframe\">\n",
       "  <thead>\n",
       "    <tr style=\"text-align: right;\">\n",
       "      <th></th>\n",
       "      <th>place</th>\n",
       "      <th>place_men</th>\n",
       "      <th>place_women</th>\n",
       "      <th>jersey_number</th>\n",
       "      <th>first_name</th>\n",
       "      <th>last_name</th>\n",
       "      <th>place_age_group</th>\n",
       "      <th>age_group</th>\n",
       "      <th>team</th>\n",
       "      <th>time</th>\n",
       "      <th>company</th>\n",
       "      <th>time_in_sec</th>\n",
       "    </tr>\n",
       "  </thead>\n",
       "  <tbody>\n",
       "    <tr>\n",
       "      <th>15</th>\n",
       "      <td>5736</td>\n",
       "      <td>4713.0</td>\n",
       "      <td>NaN</td>\n",
       "      <td>6703</td>\n",
       "      <td>Louis</td>\n",
       "      <td>Guitton</td>\n",
       "      <td>1148</td>\n",
       "      <td>M20</td>\n",
       "      <td>OneFootball</td>\n",
       "      <td>00:28:32</td>\n",
       "      <td>OneFootball GmbH</td>\n",
       "      <td>1712</td>\n",
       "    </tr>\n",
       "  </tbody>\n",
       "</table>\n",
       "</div>"
      ],
      "text/plain": [
       "    place  place_men  place_women  jersey_number first_name last_name  \\\n",
       "15   5736     4713.0          NaN           6703      Louis   Guitton   \n",
       "\n",
       "    place_age_group age_group         team      time           company  \\\n",
       "15             1148       M20  OneFootball  00:28:32  OneFootball GmbH   \n",
       "\n",
       "    time_in_sec  \n",
       "15         1712  "
      ]
     },
     "execution_count": 4,
     "metadata": {},
     "output_type": "execute_result"
    }
   ],
   "source": [
    "me = df.loc[(df.first_name=='Louis') & (df.last_name=='Guitton')]\n",
    "me"
   ]
  },
  {
   "cell_type": "code",
   "execution_count": 5,
   "metadata": {},
   "outputs": [
    {
     "data": {
      "text/html": [
       "<div>\n",
       "<style scoped>\n",
       "    .dataframe tbody tr th:only-of-type {\n",
       "        vertical-align: middle;\n",
       "    }\n",
       "\n",
       "    .dataframe tbody tr th {\n",
       "        vertical-align: top;\n",
       "    }\n",
       "\n",
       "    .dataframe thead th {\n",
       "        text-align: right;\n",
       "    }\n",
       "</style>\n",
       "<table border=\"1\" class=\"dataframe\">\n",
       "  <thead>\n",
       "    <tr style=\"text-align: right;\">\n",
       "      <th></th>\n",
       "      <th>place</th>\n",
       "      <th>place_men</th>\n",
       "      <th>place_women</th>\n",
       "      <th>jersey_number</th>\n",
       "      <th>first_name</th>\n",
       "      <th>last_name</th>\n",
       "      <th>place_age_group</th>\n",
       "      <th>age_group</th>\n",
       "      <th>team</th>\n",
       "      <th>time</th>\n",
       "      <th>company</th>\n",
       "      <th>time_in_sec</th>\n",
       "    </tr>\n",
       "  </thead>\n",
       "  <tbody>\n",
       "    <tr>\n",
       "      <th>0</th>\n",
       "      <td>545</td>\n",
       "      <td>528.0</td>\n",
       "      <td>NaN</td>\n",
       "      <td>6699</td>\n",
       "      <td>Konstantin</td>\n",
       "      <td>Escher</td>\n",
       "      <td>154</td>\n",
       "      <td>M30</td>\n",
       "      <td>OneFootball</td>\n",
       "      <td>00:22:14</td>\n",
       "      <td>OneFootball GmbH</td>\n",
       "      <td>1334</td>\n",
       "    </tr>\n",
       "  </tbody>\n",
       "</table>\n",
       "</div>"
      ],
      "text/plain": [
       "   place  place_men  place_women  jersey_number  first_name last_name  \\\n",
       "0    545      528.0          NaN           6699  Konstantin    Escher   \n",
       "\n",
       "   place_age_group age_group         team      time           company  \\\n",
       "0              154       M30  OneFootball  00:22:14  OneFootball GmbH   \n",
       "\n",
       "   time_in_sec  \n",
       "0         1334  "
      ]
     },
     "execution_count": 5,
     "metadata": {},
     "output_type": "execute_result"
    }
   ],
   "source": [
    "k = df.loc[df.time_in_sec == df.loc[df.team=='OneFootball'].time_in_sec.min(), :]\n",
    "k"
   ]
  },
  {
   "cell_type": "code",
   "execution_count": 6,
   "metadata": {},
   "outputs": [
    {
     "data": {
      "text/plain": [
       "<matplotlib.legend.Legend at 0x1260c3ac8>"
      ]
     },
     "execution_count": 6,
     "metadata": {},
     "output_type": "execute_result"
    },
    {
     "data": {
      "image/png": "[encoded data removed]",
      "text/plain": [
       "<Figure size 1152x432 with 1 Axes>"
      ]
     },
     "metadata": {
      "needs_background": "light"
     },
     "output_type": "display_data"
    }
   ],
   "source": [
    "plt.figure(figsize=(16, 6))\n",
    "ax = sns.scatterplot('place', 'time_in_sec', hue='team', data=df)\n",
    "ax.set(xscale=\"log\")\n",
    "ax.invert_xaxis()\n",
    "ax.invert_yaxis()\n",
    "ax.set_title('Final rankings of OneFootballers relative to time')\n",
    "yticks = ax.get_yticks()\n",
    "ax.set_yticklabels([pd.to_datetime(tm, unit='s').strftime('%H:%M:%S') for tm in yticks])\n",
    "ax.annotate('me', xy=(me['place'], me['time_in_sec']), xytext=(3000, 1760),\n",
    "            arrowprops=dict(facecolor='black', shrink=0.05),\n",
    "            )\n",
    "ax.annotate('fastest onefootballer', xy=(k['place'], k['time_in_sec']), xytext=(800, 1550),\n",
    "            arrowprops=dict(facecolor='black', shrink=0.05),\n",
    "            )\n",
    "plt.legend(loc='lower right')"
   ]
  }
 ],
 "metadata": {
  "kernelspec": {
   "display_name": "Python 3",
   "language": "python",
   "name": "python3"
  },
  "language_info": {
   "codemirror_mode": {
    "name": "ipython",
    "version": 3
   },
   "file_extension": ".py",
   "mimetype": "text/x-python",
   "name": "python",
   "nbconvert_exporter": "python",
   "pygments_lexer": "ipython3",
   "version": "3.7.3"
  }
 },
 "nbformat": 4,
 "nbformat_minor": 2
}
